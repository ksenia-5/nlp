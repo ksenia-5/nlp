{
 "cells": [
  {
   "cell_type": "markdown",
   "id": "6a5b9186",
   "metadata": {
    "papermill": {
     "duration": 0.009969,
     "end_time": "2022-12-04T17:28:04.715085",
     "exception": false,
     "start_time": "2022-12-04T17:28:04.705116",
     "status": "completed"
    },
    "tags": []
   },
   "source": [
    "# Learning to Classify Text with NLTK\n",
    "\n",
    "This notebooks explores **supervised text classification** using the NLTK library, as outlined in [Chapter 6: Learning to Classify Text](https://www.nltk.org/book/ch06.html) of the introductory text to Natural Language Processing (NLP).\n",
    "<br><br>\n",
    "Within NLP text classification is used to identify spam, categorise topics by adding keywords, and disambiguating word sense for information retrieval in search engines and question answering in dialogue systems.\n",
    "<br><br>\n",
    "\n",
    "Building supervised classifiers involves:\n",
    "* training classifer on a labelled corpus\n",
    "* assessing quality - performance metrics and error analysi.\n",
    "* making predictions about unseen data.\n",
    "\n",
    "The aim here is to become familiar with text classification using the NLTK library.\n",
    "\n",
    "## Question 6.5 \n",
    "Select one of the classification tasks described in this chapter, such as name gender detection, document classification, part-of-speech tagging, or dialog act classification. \n",
    "* Using the same training and test data, and the same feature extractor, build three classifiers for the task: a decision tree, a naive Bayes classifier, and a Maximum Entropy classifier. \n",
    "* Compare the performance of the three classifiers on your selected task. \n",
    "* How do you think that your results might be different if you used a different feature extractor?"
   ]
  },
  {
   "cell_type": "code",
   "execution_count": 1,
   "id": "6669652a",
   "metadata": {
    "_cell_guid": "b1076dfc-b9ad-4769-8c92-a6c4dae69d19",
    "_uuid": "8f2839f25d086af736a60e9eeb907d3b93b6e0e5",
    "execution": {
     "iopub.execute_input": "2022-12-04T17:28:04.739791Z",
     "iopub.status.busy": "2022-12-04T17:28:04.739265Z",
     "iopub.status.idle": "2022-12-04T17:28:06.841459Z",
     "shell.execute_reply": "2022-12-04T17:28:06.840418Z"
    },
    "papermill": {
     "duration": 2.119307,
     "end_time": "2022-12-04T17:28:06.844165",
     "exception": false,
     "start_time": "2022-12-04T17:28:04.724858",
     "status": "completed"
    },
    "tags": []
   },
   "outputs": [
    {
     "name": "stderr",
     "output_type": "stream",
     "text": [
      "[nltk_data] Downloading package names to /usr/share/nltk_data...\n",
      "[nltk_data]   Package names is already up-to-date!\n"
     ]
    },
    {
     "name": "stdout",
     "output_type": "stream",
     "text": [
      "/kaggle/input/images/output.png\n",
      "/kaggle/input/images/development.png\n"
     ]
    }
   ],
   "source": [
    "import nltk, re # NLTK library of language resources\n",
    "nltk.download([\"names\"]) # labelled corpus of male and female names\n",
    "\n",
    "# Data processing and visualisation\n",
    "import numpy as np\n",
    "import pandas as pd \n",
    "import matplotlib.pyplot as plt\n",
    "import seaborn as sns\n",
    "from IPython.display import Image\n",
    "\n",
    "# Pandas and print rounding\n",
    "pd.set_option('precision', 3) \n",
    "%precision 3\n",
    "\n",
    "import os\n",
    "for dirname, _, filenames in os.walk('/kaggle/input'):\n",
    "    for filename in filenames:\n",
    "        print(os.path.join(dirname, filename))"
   ]
  },
  {
   "cell_type": "markdown",
   "id": "0dbc3f5e",
   "metadata": {
    "papermill": {
     "duration": 0.008921,
     "end_time": "2022-12-04T17:28:06.862195",
     "exception": false,
     "start_time": "2022-12-04T17:28:06.853274",
     "status": "completed"
    },
    "tags": []
   },
   "source": [
    "## Gender Identification\n",
    "The NLTK Names Corpus contains two files with male and female names.\n",
    "\n",
    "### 1. Exploratory data analysis (EDA)\n"
   ]
  },
  {
   "cell_type": "code",
   "execution_count": 2,
   "id": "d651c9e8",
   "metadata": {
    "execution": {
     "iopub.execute_input": "2022-12-04T17:28:06.882192Z",
     "iopub.status.busy": "2022-12-04T17:28:06.881459Z",
     "iopub.status.idle": "2022-12-04T17:28:06.891467Z",
     "shell.execute_reply": "2022-12-04T17:28:06.890389Z"
    },
    "papermill": {
     "duration": 0.023047,
     "end_time": "2022-12-04T17:28:06.894123",
     "exception": false,
     "start_time": "2022-12-04T17:28:06.871076",
     "status": "completed"
    },
    "tags": []
   },
   "outputs": [
    {
     "data": {
      "text/plain": [
       "['female.txt', 'male.txt']"
      ]
     },
     "execution_count": 2,
     "metadata": {},
     "output_type": "execute_result"
    }
   ],
   "source": [
    "# load the data\n",
    "names = nltk.corpus.names\n",
    "names.fileids()"
   ]
  },
  {
   "cell_type": "code",
   "execution_count": 3,
   "id": "32461383",
   "metadata": {
    "execution": {
     "iopub.execute_input": "2022-12-04T17:28:06.914356Z",
     "iopub.status.busy": "2022-12-04T17:28:06.913665Z",
     "iopub.status.idle": "2022-12-04T17:28:06.929948Z",
     "shell.execute_reply": "2022-12-04T17:28:06.928252Z"
    },
    "papermill": {
     "duration": 0.029595,
     "end_time": "2022-12-04T17:28:06.932657",
     "exception": false,
     "start_time": "2022-12-04T17:28:06.903062",
     "status": "completed"
    },
    "tags": []
   },
   "outputs": [
    {
     "name": "stdout",
     "output_type": "stream",
     "text": [
      "There are 5001 female, 2943 male 7944 total names.\n",
      "\n",
      "365 names appear in both categories and can be classified as gender neutral.\n",
      "\n",
      "Female and male names make up 63.0 and 37.0% of the corpus; 4.6% are gender neutral.\n"
     ]
    }
   ],
   "source": [
    "# Create lists of female and male names\n",
    "f_names = names.words(\"female.txt\")\n",
    "m_names = names.words(\"male.txt\")\n",
    "\n",
    "# Calculate the number of female and male names\n",
    "n_female =len(f_names)\n",
    "n_male = len(m_names)\n",
    "n_total  = n_female + n_male\n",
    "\n",
    "# Look at the gender neutral names (overlap of two sets)\n",
    "neutral_names = set(f_names).intersection(set(m_names))\n",
    "\n",
    "# Calculate number of gender neutral names\n",
    "n_neutral = len(neutral_names)\n",
    "\n",
    "print(\"There are {} female, {} male {} total names.\".format(n_female, n_male, n_total),end =\"\\n\\n\")\n",
    "print(\"{} names appear in both categories and can be classified as gender neutral.\".format(n_neutral),end=\"\\n\\n\")\n",
    "print(\"Female and male names make up {:.1f} and {:.1f}% of the corpus; {:.1f}% are gender neutral.\".format(100*n_female/n_total, 100*n_male/n_total,100*n_neutral/n_total))"
   ]
  },
  {
   "cell_type": "markdown",
   "id": "6afd6a91",
   "metadata": {
    "papermill": {
     "duration": 0.008576,
     "end_time": "2022-12-04T17:28:06.951830",
     "exception": false,
     "start_time": "2022-12-04T17:28:06.943254",
     "status": "completed"
    },
    "tags": []
   },
   "source": [
    "The presence of gender neutral names renders this a ternary, rather than binary, classification task. \n",
    "* Removing the gender neutral names from the male and female categories and introducing a third category seems sensible. \n",
    "\n",
    "* Care is necessary in splitting the corpus into train and test subsets to ensure these contain sufficient cases of the low frequency label, and in proportion to its probability. \n",
    "\n",
    "* The NLTK authors advise a minimum of 50 labels for any category in a subset. *To ensure this minimum at least one seventh of the data needs to be reserved for the test set, i.e. 1000 samples.*"
   ]
  },
  {
   "cell_type": "code",
   "execution_count": 4,
   "id": "368b0598",
   "metadata": {
    "execution": {
     "iopub.execute_input": "2022-12-04T17:28:06.972225Z",
     "iopub.status.busy": "2022-12-04T17:28:06.971835Z",
     "iopub.status.idle": "2022-12-04T17:28:06.983645Z",
     "shell.execute_reply": "2022-12-04T17:28:06.982325Z"
    },
    "papermill": {
     "duration": 0.025586,
     "end_time": "2022-12-04T17:28:06.986800",
     "exception": false,
     "start_time": "2022-12-04T17:28:06.961214",
     "status": "completed"
    },
    "tags": []
   },
   "outputs": [
    {
     "name": "stdout",
     "output_type": "stream",
     "text": [
      "Of 7579 total names 4636 are female, 2578 are male and 365 are gender neutral.\n",
      "\n",
      "This corresponds to 61.2, 34.0 and 4.8% respectively.\n"
     ]
    }
   ],
   "source": [
    "# Remove gender neutral names from male and female names\n",
    "m_names_only = sorted(set(m_names)-set(neutral_names))\n",
    "f_names_only = sorted(set(f_names)-set(neutral_names))\n",
    "n_names_only = sorted(neutral_names)\n",
    "\n",
    "# Recalculate the number of names in each cateogory\n",
    "n_female = len(f_names_only)\n",
    "n_male = len(m_names_only)\n",
    "n_total = n_female+n_male+n_neutral\n",
    "\n",
    "print(\"Of {} total names {} are female, {} are male and {} are gender neutral.\".format(n_total,n_female,n_male,n_neutral),end=\"\\n\\n\")\n",
    "print(\"This corresponds to {:.1f}, {:.1f} and {:.1f}% respectively.\".format(100*n_female/n_total,100*n_male/n_total,100*n_neutral/n_total))"
   ]
  },
  {
   "cell_type": "code",
   "execution_count": 5,
   "id": "fc5193c5",
   "metadata": {
    "execution": {
     "iopub.execute_input": "2022-12-04T17:28:07.008424Z",
     "iopub.status.busy": "2022-12-04T17:28:07.008037Z",
     "iopub.status.idle": "2022-12-04T17:28:07.016310Z",
     "shell.execute_reply": "2022-12-04T17:28:07.014962Z"
    },
    "papermill": {
     "duration": 0.022093,
     "end_time": "2022-12-04T17:28:07.018830",
     "exception": false,
     "start_time": "2022-12-04T17:28:06.996737",
     "status": "completed"
    },
    "tags": []
   },
   "outputs": [],
   "source": [
    "# Create a list of labelled names\n",
    "labeled_names = ([(name, 'female') for name in f_names_only]\n",
    "                 + [(name, 'male') for name in m_names_only]\n",
    "                 + [(name, 'neutral') for name in n_names_only])"
   ]
  },
  {
   "cell_type": "markdown",
   "id": "daa05f77",
   "metadata": {
    "papermill": {
     "duration": 0.008661,
     "end_time": "2022-12-04T17:28:07.036549",
     "exception": false,
     "start_time": "2022-12-04T17:28:07.027888",
     "status": "completed"
    },
    "tags": []
   },
   "source": [
    "As seen previously, male and female names are more likely to start/ end with some letters. This EDA is extended to to include gender neutral names."
   ]
  },
  {
   "cell_type": "code",
   "execution_count": 6,
   "id": "5140f7e6",
   "metadata": {
    "execution": {
     "iopub.execute_input": "2022-12-04T17:28:07.056418Z",
     "iopub.status.busy": "2022-12-04T17:28:07.056036Z",
     "iopub.status.idle": "2022-12-04T17:28:08.334140Z",
     "shell.execute_reply": "2022-12-04T17:28:08.332962Z"
    },
    "papermill": {
     "duration": 1.291433,
     "end_time": "2022-12-04T17:28:08.336998",
     "exception": false,
     "start_time": "2022-12-04T17:28:07.045565",
     "status": "completed"
    },
    "tags": []
   },
   "outputs": [
    {
     "data": {
      "image/png": "[encoded data removed]",
      "text/plain": [
       "<Figure size 720x288 with 1 Axes>"
      ]
     },
     "metadata": {
      "needs_background": "light"
     },
     "output_type": "display_data"
    },
    {
     "data": {
      "image/png": "[encoded data removed]",
      "text/plain": [
       "<Figure size 720x288 with 1 Axes>"
      ]
     },
     "metadata": {
      "needs_background": "light"
     },
     "output_type": "display_data"
    },
    {
     "data": {
      "image/png": "[encoded data removed]",
      "text/plain": [
       "<Figure size 720x288 with 1 Axes>"
      ]
     },
     "metadata": {
      "needs_background": "light"
     },
     "output_type": "display_data"
    },
    {
     "data": {
      "image/png": "[encoded data removed]",
      "text/plain": [
       "<Figure size 720x288 with 1 Axes>"
      ]
     },
     "metadata": {
      "needs_background": "light"
     },
     "output_type": "display_data"
    },
    {
     "data": {
      "text/plain": [
       "<AxesSubplot:title={'center':'Penultimate letter'}, xlabel='Samples', ylabel='Counts'>"
      ]
     },
     "execution_count": 6,
     "metadata": {},
     "output_type": "execute_result"
    }
   ],
   "source": [
    "# Make conditional frequency distributions to compare frequency of different letters \n",
    "# first letter\n",
    "cfd_names_a1 = nltk.ConditionalFreqDist((label,name[0].lower()) for (name,label) in labeled_names)\n",
    "# second letter\n",
    "cfd_names_a2 = nltk.ConditionalFreqDist((label,name[1].lower()) for (name,label) in labeled_names)\n",
    "# last letter\n",
    "cfd_names_s1 = nltk.ConditionalFreqDist((label,name[-1].lower()) for (name,label) in labeled_names)\n",
    "# penultimate letter\n",
    "cfd_names_s2 = nltk.ConditionalFreqDist((label,name[-2].lower()) for (name,label) in labeled_names)\n",
    "\n",
    "# Plot the freqencies\n",
    "#fig, axes = plt.subplots(nrows = 2, ncols = 2, figsize=(16, 16), sharex=True, sharey=True)\n",
    "plt.figure(figsize=(10, 4))\n",
    "cfd_names_a1.plot(title = \"First letter\")\n",
    "plt.figure(figsize=(10, 4))\n",
    "cfd_names_a2.plot(title = \"Second letter\")\n",
    "plt.figure(figsize=(10, 4))\n",
    "cfd_names_s1.plot(title = \"Last letter\")\n",
    "plt.figure(figsize=(10, 4))\n",
    "cfd_names_s2.plot(title = \"Penultimate letter\")\n",
    "\n",
    "#plt.show()"
   ]
  },
  {
   "cell_type": "markdown",
   "id": "42ff9ec9",
   "metadata": {
    "papermill": {
     "duration": 0.011707,
     "end_time": "2022-12-04T17:28:08.361133",
     "exception": false,
     "start_time": "2022-12-04T17:28:08.349426",
     "status": "completed"
    },
    "tags": []
   },
   "source": [
    "Female, male and neutral names have different freqency distributions for the first, second, penultimate and last letters, e.g. female names commonly end in a or e, male names commonly end in e, i, l, o or r, and gender neutral names most commonly end in i. These differences can help to identify gender.\n",
    "\n",
    "#### Length of names for each category"
   ]
  },
  {
   "cell_type": "code",
   "execution_count": 7,
   "id": "b463ea97",
   "metadata": {
    "execution": {
     "iopub.execute_input": "2022-12-04T17:28:08.388131Z",
     "iopub.status.busy": "2022-12-04T17:28:08.387714Z",
     "iopub.status.idle": "2022-12-04T17:28:08.421495Z",
     "shell.execute_reply": "2022-12-04T17:28:08.420061Z"
    },
    "papermill": {
     "duration": 0.050048,
     "end_time": "2022-12-04T17:28:08.424139",
     "exception": false,
     "start_time": "2022-12-04T17:28:08.374091",
     "status": "completed"
    },
    "tags": []
   },
   "outputs": [],
   "source": [
    "# compare name lengths across categories\n",
    "name_lengths = [(label,len(name)) for (name,label) in labeled_names]\n",
    "\n",
    "# Make a dataframe with name length and label as columns\n",
    "df_lengths = pd.DataFrame.from_dict({\"length\":[len(name) for (name,label) in labeled_names],\n",
    "              \"label\": [label for (name,label) in labeled_names]})\n",
    "\n",
    "# Calculate cfd and convert to dataframe for easier plotting\n",
    "cfd_length = nltk.ConditionalFreqDist(name_lengths)\n",
    "df_length = pd.DataFrame(cfd_length).fillna(0).sort_index()"
   ]
  },
  {
   "cell_type": "code",
   "execution_count": 8,
   "id": "4a4b4073",
   "metadata": {
    "execution": {
     "iopub.execute_input": "2022-12-04T17:28:08.450947Z",
     "iopub.status.busy": "2022-12-04T17:28:08.450269Z",
     "iopub.status.idle": "2022-12-04T17:28:08.870627Z",
     "shell.execute_reply": "2022-12-04T17:28:08.869064Z"
    },
    "papermill": {
     "duration": 0.436652,
     "end_time": "2022-12-04T17:28:08.873249",
     "exception": false,
     "start_time": "2022-12-04T17:28:08.436597",
     "status": "completed"
    },
    "tags": []
   },
   "outputs": [
    {
     "data": {
      "image/png": "[encoded data removed]",
      "text/plain": [
       "<Figure size 1008x360 with 2 Axes>"
      ]
     },
     "metadata": {
      "needs_background": "light"
     },
     "output_type": "display_data"
    }
   ],
   "source": [
    "# Plot name length distribution for each gender\n",
    "fig = plt.figure(figsize =(14,5)) # create figure\n",
    "\n",
    "ax0 = fig.add_subplot(1,2,1) # add subplot 1 (1 row, 2 columns, first plot)\n",
    "ax1 = fig.add_subplot(1,2,2) # add subplot 2 (1 row, 2 columns, second plot). See tip below**\n",
    "\n",
    "# Subplot 1: Line plot\n",
    "df_length.plot(ax=ax0) # add to subplot 2\n",
    "ax0.set_ylabel('Frequency')\n",
    "ax0.set_xlabel('length')\n",
    "\n",
    "# Subplot 2: Box plot\n",
    "sns.boxplot(x = df_lengths['length'], y = df_lengths[\"label\"], ax= ax1)\n",
    "ax1.set_ylabel(\"Gender\")\n",
    "\n",
    "plt.suptitle(\"Name Length\")\n",
    "#plt.savefig('name.png')\n",
    "plt.show()"
   ]
  },
  {
   "cell_type": "markdown",
   "id": "da7ea648",
   "metadata": {
    "papermill": {
     "duration": 0.012452,
     "end_time": "2022-12-04T17:28:08.898760",
     "exception": false,
     "start_time": "2022-12-04T17:28:08.886308",
     "status": "completed"
    },
    "tags": []
   },
   "source": [
    "Gender neutral names appear to be shorter in length than female or male names.\n",
    "\n",
    "#### Vowel fraction for each name category"
   ]
  },
  {
   "cell_type": "code",
   "execution_count": 9,
   "id": "49bd4cb6",
   "metadata": {
    "execution": {
     "iopub.execute_input": "2022-12-04T17:28:08.927205Z",
     "iopub.status.busy": "2022-12-04T17:28:08.926740Z",
     "iopub.status.idle": "2022-12-04T17:28:08.935329Z",
     "shell.execute_reply": "2022-12-04T17:28:08.934149Z"
    },
    "papermill": {
     "duration": 0.025964,
     "end_time": "2022-12-04T17:28:08.937638",
     "exception": false,
     "start_time": "2022-12-04T17:28:08.911674",
     "status": "completed"
    },
    "tags": []
   },
   "outputs": [
    {
     "data": {
      "text/plain": [
       "6"
      ]
     },
     "execution_count": 9,
     "metadata": {},
     "output_type": "execute_result"
    }
   ],
   "source": [
    "# Use regular expression to count vowels, e.g.\n",
    "name = 'Jennifer Anniston'\n",
    "len(re.findall(r'[aeiouAEIOU]',name))"
   ]
  },
  {
   "cell_type": "code",
   "execution_count": 10,
   "id": "25de7d95",
   "metadata": {
    "execution": {
     "iopub.execute_input": "2022-12-04T17:28:08.965606Z",
     "iopub.status.busy": "2022-12-04T17:28:08.964959Z",
     "iopub.status.idle": "2022-12-04T17:28:09.022982Z",
     "shell.execute_reply": "2022-12-04T17:28:09.021738Z"
    },
    "papermill": {
     "duration": 0.0757,
     "end_time": "2022-12-04T17:28:09.026095",
     "exception": false,
     "start_time": "2022-12-04T17:28:08.950395",
     "status": "completed"
    },
    "tags": []
   },
   "outputs": [],
   "source": [
    "# compare proportion of vowels\n",
    "vowels = [(label,round(len(re.findall(r'[aeiouAEIOU]',name))/len(name),1)) for (name,label) in labeled_names]\n",
    "cfd_vowels = nltk.ConditionalFreqDist(vowels)\n",
    "df_cfd_vowels = pd.DataFrame(cfd_vowels).fillna(0).sort_index()\n",
    "\n",
    "df_vowels = pd.DataFrame.from_dict({\"vowel_fraction\":[round(len(re.findall(r'[aeiouAEIOU]',name))/len(name),1) for (name,label) in labeled_names],\n",
    "              \"label\": [label for (name,label) in labeled_names]})"
   ]
  },
  {
   "cell_type": "code",
   "execution_count": 11,
   "id": "b504d506",
   "metadata": {
    "execution": {
     "iopub.execute_input": "2022-12-04T17:28:09.054529Z",
     "iopub.status.busy": "2022-12-04T17:28:09.054095Z",
     "iopub.status.idle": "2022-12-04T17:28:09.605660Z",
     "shell.execute_reply": "2022-12-04T17:28:09.604765Z"
    },
    "papermill": {
     "duration": 0.568329,
     "end_time": "2022-12-04T17:28:09.608127",
     "exception": false,
     "start_time": "2022-12-04T17:28:09.039798",
     "status": "completed"
    },
    "tags": []
   },
   "outputs": [
    {
     "data": {
      "image/png": "[encoded data removed]",
      "text/plain": [
       "<Figure size 1008x360 with 2 Axes>"
      ]
     },
     "metadata": {
      "needs_background": "light"
     },
     "output_type": "display_data"
    }
   ],
   "source": [
    "# Plot vowel fraction distribution for each gender\n",
    "fig = plt.figure(figsize =(14,5)) # create figure\n",
    "\n",
    "ax0 = fig.add_subplot(1,2,1) # add subplot 1 (1 row, 2 columns, first plot)\n",
    "ax1 = fig.add_subplot(1,2,2) # add subplot 2 (1 row, 2 columns, second plot). See tip below**\n",
    "\n",
    "#df_length = pd.DataFrame(cfd_length).fillna(0).sort_index()\n",
    "df_cfd_vowels.plot(ax = ax0)\n",
    "ax0.set_ylabel('Frequency')\n",
    "ax0.set_xlabel('Vowel fraction')\n",
    "\n",
    "sns.boxplot(x = df_vowels['vowel_fraction'], y = df_lengths[\"label\"], ax = ax1)\n",
    "ax1.set_ylabel(\"Gender\")\n",
    "ax1.set_xlabel(\"Vowel fraction\")\n",
    "\n",
    "plt.suptitle(\"Vowel fraction\")\n",
    "#plt.savefig('name.png')\n",
    "\n",
    "plt.show()"
   ]
  },
  {
   "cell_type": "markdown",
   "id": "1b3df37d",
   "metadata": {
    "papermill": {
     "duration": 0.01285,
     "end_time": "2022-12-04T17:28:09.634344",
     "exception": false,
     "start_time": "2022-12-04T17:28:09.621494",
     "status": "completed"
    },
    "tags": []
   },
   "source": [
    "### 2. Data preprocessing\n",
    "#### Split data into train, development test and test sets.\n",
    "\n",
    "* Split the data into development and test sets, where the development set is itself split into training and development test set.\n",
    "* Model and feature selection is an iterative process, train and development test sets help to evaluate accuaracy."
   ]
  },
  {
   "cell_type": "code",
   "execution_count": 12,
   "id": "f814d194",
   "metadata": {
    "execution": {
     "iopub.execute_input": "2022-12-04T17:28:09.666131Z",
     "iopub.status.busy": "2022-12-04T17:28:09.664988Z",
     "iopub.status.idle": "2022-12-04T17:28:09.684167Z",
     "shell.execute_reply": "2022-12-04T17:28:09.682468Z"
    },
    "papermill": {
     "duration": 0.039391,
     "end_time": "2022-12-04T17:28:09.686985",
     "exception": false,
     "start_time": "2022-12-04T17:28:09.647594",
     "status": "completed"
    },
    "tags": []
   },
   "outputs": [
    {
     "name": "stdout",
     "output_type": "stream",
     "text": [
      "[('Bobby', 'neutral'), ('Selestina', 'female'), ('Aron', 'male'), ('Chancey', 'male'), ('Martyn', 'male'), ('Eolanda', 'female'), ('Cliff', 'male'), ('Siana', 'female'), ('Giraud', 'male'), ('Vergil', 'male'), ('Fidela', 'female'), ('Laurens', 'male'), ('Rheba', 'female'), ('Katrinka', 'female'), ('Kelcie', 'female'), ('Guendolen', 'female'), ('Jonell', 'female'), ('Veronike', 'female'), ('Norwood', 'male'), ('Lacey', 'female'), ('Russ', 'male'), ('Delcina', 'female'), ('Goldi', 'female'), ('Onida', 'female'), ('Fortune', 'female')]\n"
     ]
    }
   ],
   "source": [
    "# shuffle the dataset\n",
    "import random\n",
    "random.shuffle(labeled_names)\n",
    "\n",
    "# labeled_names is the list of tuples containing name-label pairs\n",
    "print(labeled_names[:25])\n",
    "\n",
    "# Split datasets for training and model evaluation\n",
    "train_names = labeled_names[2500:]\n",
    "devtest_names = labeled_names[1250:2500]\n",
    "test_names = labeled_names[:1250]"
   ]
  },
  {
   "cell_type": "markdown",
   "id": "230f5cba",
   "metadata": {
    "papermill": {
     "duration": 0.017294,
     "end_time": "2022-12-04T17:28:09.719890",
     "exception": false,
     "start_time": "2022-12-04T17:28:09.702596",
     "status": "completed"
    },
    "tags": []
   },
   "source": [
    "#### Create the feature set\n",
    "A dictionary of encoded features - simple value types (booleans/ numbers/ strings). "
   ]
  },
  {
   "cell_type": "code",
   "execution_count": 13,
   "id": "b5889e9e",
   "metadata": {
    "execution": {
     "iopub.execute_input": "2022-12-04T17:28:09.759968Z",
     "iopub.status.busy": "2022-12-04T17:28:09.759434Z",
     "iopub.status.idle": "2022-12-04T17:28:09.771262Z",
     "shell.execute_reply": "2022-12-04T17:28:09.770083Z"
    },
    "papermill": {
     "duration": 0.032737,
     "end_time": "2022-12-04T17:28:09.774370",
     "exception": false,
     "start_time": "2022-12-04T17:28:09.741633",
     "status": "completed"
    },
    "tags": []
   },
   "outputs": [
    {
     "data": {
      "text/plain": [
       "{'affix1': 'e',\n",
       " 'affix2': 'e',\n",
       " 'suffix1': 'n',\n",
       " 'suffix2': 'in',\n",
       " 'length': 4,\n",
       " 'vowel_ratio': 0.500}"
      ]
     },
     "execution_count": 13,
     "metadata": {},
     "output_type": "execute_result"
    }
   ],
   "source": [
    "# function to create the feature set\n",
    "\n",
    "def gender_features(word):\n",
    "    #return a dictionary with feature name-value pairs\n",
    "    return {'affix1' : word[0].lower(),\n",
    "            'affix2' : word[:1].lower(),\n",
    "            'suffix1': word[-1].lower(),\n",
    "            'suffix2': word[-2:].lower(),\n",
    "            'length' : len(word),\n",
    "            'vowel_ratio': round(len(re.findall(r'[aeiouAEIOU]',word))/len(word),1)\n",
    "           }\n",
    "\n",
    "gender_features(\"Erin\")\n",
    "#notice the output is a dictionary"
   ]
  },
  {
   "cell_type": "code",
   "execution_count": 14,
   "id": "b4907fc4",
   "metadata": {
    "execution": {
     "iopub.execute_input": "2022-12-04T17:28:09.815332Z",
     "iopub.status.busy": "2022-12-04T17:28:09.814944Z",
     "iopub.status.idle": "2022-12-04T17:28:09.865532Z",
     "shell.execute_reply": "2022-12-04T17:28:09.864122Z"
    },
    "papermill": {
     "duration": 0.073663,
     "end_time": "2022-12-04T17:28:09.869101",
     "exception": false,
     "start_time": "2022-12-04T17:28:09.795438",
     "status": "completed"
    },
    "tags": []
   },
   "outputs": [
    {
     "name": "stdout",
     "output_type": "stream",
     "text": [
      "54\n",
      "426\n",
      "770\n"
     ]
    }
   ],
   "source": [
    "# Create features sets for each subset\n",
    "train_set = [(gender_features(n), gender) for (n, gender) in train_names]\n",
    "devtest_set = [(gender_features(n), gender) for (n, gender) in devtest_names]\n",
    "test_set = [(gender_features(n), gender) for (n, gender) in test_names]\n",
    "\n",
    "# Check number of samples for each category in test set.\n",
    "print(len([tag for (name,tag) in test_set if tag==\"neutral\"]))\n",
    "print(len([tag for (name,tag) in test_set if tag==\"male\"]))\n",
    "print(len([tag for (name,tag) in test_set if tag==\"female\"]))"
   ]
  },
  {
   "cell_type": "markdown",
   "id": "bb1c8103",
   "metadata": {
    "papermill": {
     "duration": 0.013259,
     "end_time": "2022-12-04T17:28:09.896554",
     "exception": false,
     "start_time": "2022-12-04T17:28:09.883295",
     "status": "completed"
    },
    "tags": []
   },
   "source": [
    "### Train model, make predictions, check accuracy"
   ]
  },
  {
   "cell_type": "code",
   "execution_count": 15,
   "id": "70554693",
   "metadata": {
    "execution": {
     "iopub.execute_input": "2022-12-04T17:28:09.936036Z",
     "iopub.status.busy": "2022-12-04T17:28:09.935224Z",
     "iopub.status.idle": "2022-12-04T17:28:10.043459Z",
     "shell.execute_reply": "2022-12-04T17:28:10.041557Z"
    },
    "papermill": {
     "duration": 0.131416,
     "end_time": "2022-12-04T17:28:10.051345",
     "exception": false,
     "start_time": "2022-12-04T17:28:09.919929",
     "status": "completed"
    },
    "tags": []
   },
   "outputs": [
    {
     "name": "stdout",
     "output_type": "stream",
     "text": [
      "Ksenia is a female name.\n",
      "Mattia is a female name.\n",
      "Erin is a male name.\n",
      "The classifier is 76.3% accurate.\n"
     ]
    }
   ],
   "source": [
    "# train a Naive Bayes classifier\n",
    "classifier = nltk.NaiveBayesClassifier.train(train_set)\n",
    "\n",
    "# Check if it works on examples\n",
    "names = [\"Ksenia\",\"Mattia\", \"Erin\"]\n",
    "for name in names:\n",
    "    print(\"{} is a {} name.\".format(name,classifier.classify(gender_features(name))))\n",
    "\n",
    "# Evaluate overall accuracy\n",
    "accuracy = nltk.classify.accuracy(classifier, devtest_set)\n",
    "print(\"The classifier is {:.1f}% accurate.\".format(100*accuracy))"
   ]
  },
  {
   "cell_type": "markdown",
   "id": "98a564a0",
   "metadata": {
    "papermill": {
     "duration": 0.014453,
     "end_time": "2022-12-04T17:28:10.080536",
     "exception": false,
     "start_time": "2022-12-04T17:28:10.066083",
     "status": "completed"
    },
    "tags": []
   },
   "source": [
    "Mattia is an Italian male name - cultural/ regional differences are at play here; the dataset is not representative of common names in other languages.\n",
    "\n",
    "### Analyse important features"
   ]
  },
  {
   "cell_type": "code",
   "execution_count": 16,
   "id": "a20dcd17",
   "metadata": {
    "execution": {
     "iopub.execute_input": "2022-12-04T17:28:10.111722Z",
     "iopub.status.busy": "2022-12-04T17:28:10.111286Z",
     "iopub.status.idle": "2022-12-04T17:28:10.121262Z",
     "shell.execute_reply": "2022-12-04T17:28:10.119876Z"
    },
    "papermill": {
     "duration": 0.02805,
     "end_time": "2022-12-04T17:28:10.124202",
     "exception": false,
     "start_time": "2022-12-04T17:28:10.096152",
     "status": "completed"
    },
    "tags": []
   },
   "outputs": [
    {
     "name": "stdout",
     "output_type": "stream",
     "text": [
      "Most Informative Features\n",
      "                 suffix2 = 'ia'           female : male   =     64.4 : 1.0\n",
      "                 suffix1 = 'k'              male : female =     54.4 : 1.0\n",
      "                 suffix2 = 'la'           female : male   =     53.3 : 1.0\n",
      "                 suffix2 = 'us'             male : female =     52.9 : 1.0\n",
      "                 suffix1 = 'a'            female : male   =     46.2 : 1.0\n",
      "                 suffix2 = 'rt'             male : female =     39.0 : 1.0\n",
      "                 suffix2 = 'ta'           female : male   =     31.8 : 1.0\n",
      "                 suffix2 = 'ld'             male : female =     26.2 : 1.0\n",
      "                 suffix2 = 'na'           female : neutra =     22.8 : 1.0\n",
      "                 suffix2 = 'at'           neutra : female =     20.8 : 1.0\n",
      "                 suffix2 = 'ch'             male : female =     20.4 : 1.0\n",
      "                 suffix2 = 'do'             male : female =     20.4 : 1.0\n",
      "                 suffix2 = 'rd'             male : female =     18.4 : 1.0\n",
      "                 suffix2 = 'os'             male : female =     18.0 : 1.0\n",
      "                 suffix1 = 'd'              male : female =     14.0 : 1.0\n",
      "                 suffix1 = 'm'              male : female =     13.9 : 1.0\n",
      "                 suffix1 = 'v'              male : female =     13.7 : 1.0\n",
      "                 suffix2 = 'ed'             male : female =     13.4 : 1.0\n",
      "                 suffix2 = 'io'             male : female =     12.9 : 1.0\n",
      "                 suffix2 = 'on'             male : neutra =     12.6 : 1.0\n",
      "                 suffix2 = 'ar'             male : female =     12.2 : 1.0\n",
      "                 suffix2 = 'ke'             male : female =     12.2 : 1.0\n",
      "                 suffix1 = 'f'              male : female =     11.8 : 1.0\n",
      "                 suffix2 = 'as'             male : female =     10.7 : 1.0\n",
      "                 suffix2 = 'di'           female : male   =     10.5 : 1.0\n",
      "                 suffix2 = 'er'             male : neutra =     10.2 : 1.0\n",
      "                 suffix2 = 'ka'           female : male   =      9.7 : 1.0\n",
      "                 suffix1 = 'o'              male : female =      9.4 : 1.0\n",
      "                 suffix2 = 'am'             male : female =      9.2 : 1.0\n",
      "                 suffix2 = 'gh'           neutra : female =      8.9 : 1.0\n",
      "                 suffix2 = 'ew'           neutra : female =      8.9 : 1.0\n",
      "                 suffix2 = 'ou'           neutra : female =      8.9 : 1.0\n",
      "                 suffix2 = 'ue'           neutra : female =      8.9 : 1.0\n",
      "                 suffix2 = 'ns'             male : female =      8.7 : 1.0\n",
      "                 suffix2 = 'ud'             male : female =      8.7 : 1.0\n",
      "                 suffix2 = 'ra'           female : neutra =      8.6 : 1.0\n",
      "                 suffix2 = 'nd'             male : female =      8.4 : 1.0\n",
      "                  length = 2              neutra : female =      7.7 : 1.0\n",
      "                 suffix2 = 'my'           neutra : female =      7.5 : 1.0\n",
      "                 suffix2 = 'ro'             male : female =      7.3 : 1.0\n",
      "                 suffix1 = 'r'              male : female =      7.2 : 1.0\n",
      "                 suffix2 = 'ya'           female : male   =      7.1 : 1.0\n",
      "                 suffix1 = 'g'              male : female =      7.0 : 1.0\n",
      "             vowel_ratio = 0.0            neutra : female =      6.8 : 1.0\n",
      "                 suffix2 = 'lo'             male : female =      6.8 : 1.0\n",
      "                 suffix2 = 'ha'           female : male   =      6.6 : 1.0\n",
      "                 suffix2 = 'ni'           female : male   =      6.5 : 1.0\n",
      "                 suffix2 = 'ev'             male : female =      6.4 : 1.0\n",
      "                 suffix2 = 'rk'             male : female =      6.4 : 1.0\n",
      "                 suffix2 = 'ay'           neutra : female =      6.4 : 1.0\n"
     ]
    }
   ],
   "source": [
    "# what was the best way to classify?\n",
    "classifier.show_most_informative_features(50)"
   ]
  },
  {
   "cell_type": "markdown",
   "id": "73861227",
   "metadata": {
    "papermill": {
     "duration": 0.014006,
     "end_time": "2022-12-04T17:28:10.153033",
     "exception": false,
     "start_time": "2022-12-04T17:28:10.139027",
     "status": "completed"
    },
    "tags": []
   },
   "source": [
    "Most informative features show that the likelihood ratios are highest for one- and two-letter suffixes. The model can help to determine the most important features.\n",
    "\n",
    "It can also help to look at errors."
   ]
  },
  {
   "cell_type": "code",
   "execution_count": 17,
   "id": "17ccf459",
   "metadata": {
    "execution": {
     "iopub.execute_input": "2022-12-04T17:28:10.184345Z",
     "iopub.status.busy": "2022-12-04T17:28:10.183352Z",
     "iopub.status.idle": "2022-12-04T17:28:10.189254Z",
     "shell.execute_reply": "2022-12-04T17:28:10.187760Z"
    },
    "papermill": {
     "duration": 0.024855,
     "end_time": "2022-12-04T17:28:10.192030",
     "exception": false,
     "start_time": "2022-12-04T17:28:10.167175",
     "status": "completed"
    },
    "tags": []
   },
   "outputs": [],
   "source": [
    "# print it out by looping and making it nice looking:\n",
    "# for (tag, guess, name) in sorted(classifier.errors):\n",
    "#    print('correct={:<8} guess={:<8s} name={:<30}'.format(tag, guess, name))"
   ]
  },
  {
   "cell_type": "code",
   "execution_count": 18,
   "id": "3f30fa44",
   "metadata": {
    "execution": {
     "iopub.execute_input": "2022-12-04T17:28:10.223001Z",
     "iopub.status.busy": "2022-12-04T17:28:10.221944Z",
     "iopub.status.idle": "2022-12-04T17:29:32.447051Z",
     "shell.execute_reply": "2022-12-04T17:29:32.445592Z"
    },
    "papermill": {
     "duration": 82.244625,
     "end_time": "2022-12-04T17:29:32.450454",
     "exception": false,
     "start_time": "2022-12-04T17:28:10.205829",
     "status": "completed"
    },
    "tags": []
   },
   "outputs": [
    {
     "name": "stdout",
     "output_type": "stream",
     "text": [
      "  ==> Training (100 iterations)\n",
      "\n",
      "      Iteration    Log Likelihood    Accuracy\n",
      "      ---------------------------------------\n",
      "             1          -1.09861        0.047\n",
      "             2          -0.52339        0.752\n",
      "             3          -0.45181        0.790\n",
      "             4          -0.41411        0.795\n",
      "             5          -0.39149        0.797\n",
      "             6          -0.37663        0.800\n",
      "             7          -0.36620        0.801\n",
      "             8          -0.35852        0.804\n",
      "             9          -0.35263        0.804\n",
      "            10          -0.34798        0.805\n",
      "            11          -0.34422        0.806\n",
      "            12          -0.34110        0.805\n",
      "            13          -0.33848        0.807\n",
      "            14          -0.33625        0.806\n",
      "            15          -0.33431        0.806\n",
      "            16          -0.33262        0.807\n",
      "            17          -0.33113        0.808\n",
      "            18          -0.32981        0.808\n",
      "            19          -0.32862        0.808\n",
      "            20          -0.32755        0.808\n",
      "            21          -0.32658        0.807\n",
      "            22          -0.32569        0.807\n",
      "            23          -0.32489        0.807\n",
      "            24          -0.32414        0.807\n",
      "            25          -0.32346        0.807\n",
      "            26          -0.32282        0.808\n",
      "            27          -0.32223        0.808\n",
      "            28          -0.32168        0.808\n",
      "            29          -0.32117        0.808\n",
      "            30          -0.32069        0.807\n",
      "            31          -0.32024        0.807\n",
      "            32          -0.31981        0.807\n",
      "            33          -0.31941        0.807\n",
      "            34          -0.31903        0.808\n",
      "            35          -0.31867        0.808\n",
      "            36          -0.31833        0.808\n",
      "            37          -0.31801        0.809\n",
      "            38          -0.31770        0.809\n",
      "            39          -0.31741        0.809\n",
      "            40          -0.31713        0.808\n",
      "            41          -0.31687        0.809\n",
      "            42          -0.31661        0.809\n",
      "            43          -0.31637        0.809\n",
      "            44          -0.31613        0.809\n",
      "            45          -0.31591        0.809\n",
      "            46          -0.31569        0.808\n",
      "            47          -0.31549        0.808\n",
      "            48          -0.31529        0.808\n",
      "            49          -0.31509        0.808\n",
      "            50          -0.31491        0.808\n",
      "            51          -0.31473        0.809\n",
      "            52          -0.31456        0.809\n",
      "            53          -0.31439        0.809\n",
      "            54          -0.31423        0.809\n",
      "            55          -0.31407        0.809\n",
      "            56          -0.31392        0.809\n",
      "            57          -0.31378        0.809\n",
      "            58          -0.31364        0.809\n",
      "            59          -0.31350        0.808\n",
      "            60          -0.31337        0.808\n",
      "            61          -0.31324        0.808\n",
      "            62          -0.31311        0.808\n",
      "            63          -0.31299        0.809\n",
      "            64          -0.31287        0.809\n",
      "            65          -0.31275        0.809\n",
      "            66          -0.31264        0.809\n",
      "            67          -0.31253        0.809\n",
      "            68          -0.31243        0.809\n",
      "            69          -0.31232        0.809\n",
      "            70          -0.31222        0.809\n",
      "            71          -0.31213        0.809\n",
      "            72          -0.31203        0.809\n",
      "            73          -0.31194        0.809\n",
      "            74          -0.31185        0.809\n",
      "            75          -0.31176        0.809\n",
      "            76          -0.31167        0.809\n",
      "            77          -0.31159        0.809\n",
      "            78          -0.31150        0.810\n",
      "            79          -0.31142        0.810\n",
      "            80          -0.31134        0.810\n",
      "            81          -0.31127        0.810\n",
      "            82          -0.31119        0.810\n",
      "            83          -0.31112        0.810\n",
      "            84          -0.31104        0.810\n",
      "            85          -0.31097        0.810\n",
      "            86          -0.31090        0.810\n",
      "            87          -0.31084        0.810\n",
      "            88          -0.31077        0.810\n",
      "            89          -0.31071        0.810\n",
      "            90          -0.31064        0.810\n",
      "            91          -0.31058        0.810\n",
      "            92          -0.31052        0.810\n",
      "            93          -0.31046        0.810\n",
      "            94          -0.31040        0.810\n",
      "            95          -0.31034        0.810\n",
      "            96          -0.31029        0.810\n",
      "            97          -0.31023        0.810\n",
      "            98          -0.31018        0.810\n",
      "            99          -0.31012        0.810\n",
      "         Final          -0.31007        0.810\n",
      "0.7632\n",
      "Most Informative Features\n",
      "                 suffix2 = 'ia'           female : male   =     64.4 : 1.0\n",
      "                 suffix1 = 'k'              male : female =     54.4 : 1.0\n",
      "                 suffix2 = 'la'           female : male   =     53.3 : 1.0\n",
      "                 suffix2 = 'us'             male : female =     52.9 : 1.0\n",
      "                 suffix1 = 'a'            female : male   =     46.2 : 1.0\n",
      "                 suffix2 = 'rt'             male : female =     39.0 : 1.0\n",
      "                 suffix2 = 'ta'           female : male   =     31.8 : 1.0\n",
      "                 suffix2 = 'ld'             male : female =     26.2 : 1.0\n",
      "                 suffix2 = 'na'           female : neutra =     22.8 : 1.0\n",
      "                 suffix2 = 'at'           neutra : female =     20.8 : 1.0\n",
      "None\n",
      "  11.504 suffix2=='ua' and label is 'male'\n",
      "  11.118 suffix2=='ok' and label is 'neutral'\n",
      "  10.355 suffix2=='ks' and label is 'neutral'\n",
      "   9.563 suffix2=='aa' and label is 'male'\n",
      "   9.346 suffix2=='jo' and label is 'neutral'\n",
      "   8.631 suffix2=='um' and label is 'female'\n",
      "  -7.576 suffix1=='a' and label is 'male'\n",
      "  -7.300 suffix1=='k' and label is 'female'\n",
      "   6.906 suffix2=='ru' and label is 'female'\n",
      "   6.526 suffix2=='ou' and label is 'neutral'\n",
      "None\n"
     ]
    }
   ],
   "source": [
    "# train the classifier\n",
    "classifier_NB = nltk.NaiveBayesClassifier.train(train_set)\n",
    "classifier_ME = nltk.MaxentClassifier.train(train_set)\n",
    "classifier_DT = nltk.DecisionTreeClassifier.train(train_set)\n",
    "\n",
    "print(nltk.classify.accuracy(classifier, devtest_set))\n",
    "print(classifier_NB.show_most_informative_features(10))\n",
    "print(classifier_ME.show_most_informative_features(10))\n",
    "#print(classifier_DT.show_most_informative_features(10))\n",
    "\n"
   ]
  },
  {
   "cell_type": "code",
   "execution_count": 19,
   "id": "3df89b7d",
   "metadata": {
    "execution": {
     "iopub.execute_input": "2022-12-04T17:29:32.492453Z",
     "iopub.status.busy": "2022-12-04T17:29:32.492046Z",
     "iopub.status.idle": "2022-12-04T17:29:32.597427Z",
     "shell.execute_reply": "2022-12-04T17:29:32.595548Z"
    },
    "papermill": {
     "duration": 0.130087,
     "end_time": "2022-12-04T17:29:32.600555",
     "exception": false,
     "start_time": "2022-12-04T17:29:32.470468",
     "status": "completed"
    },
    "tags": []
   },
   "outputs": [
    {
     "name": "stdout",
     "output_type": "stream",
     "text": [
      "The NB classifier is 76.3% accurate.\n",
      "The ME classifier is 78.2% accurate.\n",
      "The DT classifier is 74.6% accurate.\n",
      "\n",
      "Naive Bayes model predicts:\n",
      "\n",
      "Robert is a male name.\n",
      "Elizabeth is a female name.\n",
      "Ksenia is a female name.\n",
      "Mattia is a female name.\n",
      "\n",
      "Max Entropy model predicts:\n",
      "\n",
      "Robert is a male name.\n",
      "Elizabeth is a female name.\n",
      "Ksenia is a female name.\n",
      "Mattia is a female name.\n",
      "\n",
      "Decision Tree model predicts:\n",
      "\n",
      "Robert is a male name.\n",
      "Elizabeth is a female name.\n",
      "Ksenia is a female name.\n",
      "Mattia is a female name.\n"
     ]
    }
   ],
   "source": [
    "# Test accuracy\n",
    "accuracy_NB = nltk.classify.accuracy(classifier_NB, devtest_set)\n",
    "accuracy_ME = nltk.classify.accuracy(classifier_ME, devtest_set)\n",
    "accuracy_DT = nltk.classify.accuracy(classifier_DT, devtest_set)\n",
    "print(\"The NB classifier is {:.1f}% accurate.\".format(100*accuracy_NB))\n",
    "print(\"The ME classifier is {:.1f}% accurate.\".format(100*accuracy_ME))\n",
    "print(\"The DT classifier is {:.1f}% accurate.\".format(100*accuracy_DT))\n",
    "\n",
    "# Test examples\n",
    "names = [\"Robert\",\"Elizabeth\",\"Ksenia\",\"Mattia\"]\n",
    "\n",
    "print(\"\\nNaive Bayes model predicts:\\n\")\n",
    "for name in names:\n",
    "    print(\"{} is a {} name.\".format(name,classifier_NB.classify(gender_features(name))))\n",
    "\n",
    "print(\"\\nMax Entropy model predicts:\\n\")\n",
    "for name in names:\n",
    "    print(\"{} is a {} name.\".format(name,classifier_ME.classify(gender_features(name))))\n",
    "\n",
    "print(\"\\nDecision Tree model predicts:\\n\")    \n",
    "for name in names:\n",
    "    print(\"{} is a {} name.\".format(name,classifier_DT.classify(gender_features(name))))"
   ]
  },
  {
   "cell_type": "markdown",
   "id": "4c51dcfd",
   "metadata": {
    "papermill": {
     "duration": 0.019317,
     "end_time": "2022-12-04T17:29:32.640866",
     "exception": false,
     "start_time": "2022-12-04T17:29:32.621549",
     "status": "completed"
    },
    "tags": []
   },
   "source": [
    "### Evaluate classifier performance and compare models\n",
    "* Accuracy\n",
    "* Precision\n",
    "* Recall\n",
    "* R-f"
   ]
  },
  {
   "cell_type": "code",
   "execution_count": 20,
   "id": "4ccc1ee0",
   "metadata": {
    "execution": {
     "iopub.execute_input": "2022-12-04T17:29:32.682022Z",
     "iopub.status.busy": "2022-12-04T17:29:32.681540Z",
     "iopub.status.idle": "2022-12-04T17:29:32.686906Z",
     "shell.execute_reply": "2022-12-04T17:29:32.685765Z"
    },
    "papermill": {
     "duration": 0.028745,
     "end_time": "2022-12-04T17:29:32.689162",
     "exception": false,
     "start_time": "2022-12-04T17:29:32.660417",
     "status": "completed"
    },
    "tags": []
   },
   "outputs": [],
   "source": [
    "# Add model evaluation code"
   ]
  },
  {
   "cell_type": "markdown",
   "id": "c6477f74",
   "metadata": {
    "papermill": {
     "duration": 0.019402,
     "end_time": "2022-12-04T17:29:32.728458",
     "exception": false,
     "start_time": "2022-12-04T17:29:32.709056",
     "status": "completed"
    },
    "tags": []
   },
   "source": [
    "## Guessing name gender randomly\n",
    "Based on name gender frequencies gender labels can be generated randomly using the multinomial distribution."
   ]
  },
  {
   "cell_type": "code",
   "execution_count": 21,
   "id": "b583a112",
   "metadata": {
    "execution": {
     "iopub.execute_input": "2022-12-04T17:29:32.769294Z",
     "iopub.status.busy": "2022-12-04T17:29:32.768890Z",
     "iopub.status.idle": "2022-12-04T17:29:36.130275Z",
     "shell.execute_reply": "2022-12-04T17:29:36.128905Z"
    },
    "papermill": {
     "duration": 3.385116,
     "end_time": "2022-12-04T17:29:36.133213",
     "exception": false,
     "start_time": "2022-12-04T17:29:32.748097",
     "status": "completed"
    },
    "tags": []
   },
   "outputs": [
    {
     "data": {
      "text/html": [
       "<div>\n",
       "<style scoped>\n",
       "    .dataframe tbody tr th:only-of-type {\n",
       "        vertical-align: middle;\n",
       "    }\n",
       "\n",
       "    .dataframe tbody tr th {\n",
       "        vertical-align: top;\n",
       "    }\n",
       "\n",
       "    .dataframe thead th {\n",
       "        text-align: right;\n",
       "    }\n",
       "</style>\n",
       "<table border=\"1\" class=\"dataframe\">\n",
       "  <thead>\n",
       "    <tr style=\"text-align: right;\">\n",
       "      <th></th>\n",
       "      <th>female</th>\n",
       "      <th>male</th>\n",
       "      <th>neutral</th>\n",
       "      <th>random</th>\n",
       "      <th>label</th>\n",
       "    </tr>\n",
       "  </thead>\n",
       "  <tbody>\n",
       "    <tr>\n",
       "      <th>Bobby</th>\n",
       "      <td>0</td>\n",
       "      <td>1</td>\n",
       "      <td>0</td>\n",
       "      <td>male</td>\n",
       "      <td>neutral</td>\n",
       "    </tr>\n",
       "    <tr>\n",
       "      <th>Selestina</th>\n",
       "      <td>0</td>\n",
       "      <td>1</td>\n",
       "      <td>0</td>\n",
       "      <td>male</td>\n",
       "      <td>female</td>\n",
       "    </tr>\n",
       "    <tr>\n",
       "      <th>Aron</th>\n",
       "      <td>0</td>\n",
       "      <td>1</td>\n",
       "      <td>0</td>\n",
       "      <td>male</td>\n",
       "      <td>male</td>\n",
       "    </tr>\n",
       "    <tr>\n",
       "      <th>Chancey</th>\n",
       "      <td>1</td>\n",
       "      <td>0</td>\n",
       "      <td>0</td>\n",
       "      <td>female</td>\n",
       "      <td>male</td>\n",
       "    </tr>\n",
       "    <tr>\n",
       "      <th>Martyn</th>\n",
       "      <td>1</td>\n",
       "      <td>0</td>\n",
       "      <td>0</td>\n",
       "      <td>female</td>\n",
       "      <td>male</td>\n",
       "    </tr>\n",
       "  </tbody>\n",
       "</table>\n",
       "</div>"
      ],
      "text/plain": [
       "           female  male  neutral  random    label\n",
       "Bobby           0     1        0    male  neutral\n",
       "Selestina       0     1        0    male   female\n",
       "Aron            0     1        0    male     male\n",
       "Chancey         1     0        0  female     male\n",
       "Martyn          1     0        0  female     male"
      ]
     },
     "execution_count": 21,
     "metadata": {},
     "output_type": "execute_result"
    }
   ],
   "source": [
    "# Generate random labels from numpy multinomial distribution\n",
    "rng = np.random.default_rng()\n",
    "simulated_labels = rng.multinomial(1, [.612, .340, .048],size=7579)\n",
    "df_simulated = pd.DataFrame(simulated_labels,columns = [\"female\",\"male\",\"neutral\"],index = [name for (name,label) in labeled_names])\n",
    "df_simulated[\"random\"] = \"\"\n",
    "\n",
    "for index, row in df_simulated.iterrows():\n",
    "    df_simulated.loc[index,\"random\"] = [col for col in [\"female\",\"male\",\"neutral\"] if row[col]==1][0]\n",
    "    \n",
    "df_simulated[\"label\"] = [label for (name,label) in labeled_names]\n",
    "\n",
    "df_simulated.head()"
   ]
  },
  {
   "cell_type": "code",
   "execution_count": 22,
   "id": "eb4d6251",
   "metadata": {
    "execution": {
     "iopub.execute_input": "2022-12-04T17:29:36.177333Z",
     "iopub.status.busy": "2022-12-04T17:29:36.176289Z",
     "iopub.status.idle": "2022-12-04T17:29:36.600569Z",
     "shell.execute_reply": "2022-12-04T17:29:36.599271Z"
    },
    "papermill": {
     "duration": 0.448719,
     "end_time": "2022-12-04T17:29:36.603108",
     "exception": false,
     "start_time": "2022-12-04T17:29:36.154389",
     "status": "completed"
    },
    "tags": []
   },
   "outputs": [
    {
     "data": {
      "text/plain": [
       "0.498"
      ]
     },
     "execution_count": 22,
     "metadata": {},
     "output_type": "execute_result"
    }
   ],
   "source": [
    "#check accuracy of randomly generated name gender labels\n",
    "count_accurate = 0\n",
    "for (index, row) in df_simulated.iterrows():\n",
    "    if row[\"random\"]==row[\"label\"]:\n",
    "        count_accurate +=1 \n",
    "accuracy = count_accurate/len(df_simulated)\n",
    "accuracy\n"
   ]
  },
  {
   "cell_type": "markdown",
   "id": "749dc236",
   "metadata": {
    "papermill": {
     "duration": 0.020191,
     "end_time": "2022-12-04T17:29:36.643552",
     "exception": false,
     "start_time": "2022-12-04T17:29:36.623361",
     "status": "completed"
    },
    "tags": []
   },
   "source": [
    "Randomly guessing gender gives an accuracy of circa 50%. This provides a baseline for improving and comparing the classifier.\n",
    "\n",
    "As the most common name in the corpus is female, always guessing female gives an even higher model accuracy."
   ]
  },
  {
   "cell_type": "code",
   "execution_count": 23,
   "id": "03233d0a",
   "metadata": {
    "execution": {
     "iopub.execute_input": "2022-12-04T17:29:36.686156Z",
     "iopub.status.busy": "2022-12-04T17:29:36.685428Z",
     "iopub.status.idle": "2022-12-04T17:29:37.125078Z",
     "shell.execute_reply": "2022-12-04T17:29:37.123916Z"
    },
    "papermill": {
     "duration": 0.463965,
     "end_time": "2022-12-04T17:29:37.127763",
     "exception": false,
     "start_time": "2022-12-04T17:29:36.663798",
     "status": "completed"
    },
    "tags": []
   },
   "outputs": [
    {
     "data": {
      "text/plain": [
       "0.612"
      ]
     },
     "execution_count": 23,
     "metadata": {},
     "output_type": "execute_result"
    }
   ],
   "source": [
    "# Always guess name gender to be female\n",
    "df_simulated[\"always_female\"] = \"female\"\n",
    "#check accuracy\n",
    "count_accurate = 0\n",
    "for (index, row) in df_simulated.iterrows():\n",
    "    if row[\"always_female\"]==row[\"label\"]:\n",
    "        count_accurate +=1 \n",
    "accuracy = count_accurate/len(df_simulated)\n",
    "accuracy"
   ]
  },
  {
   "cell_type": "markdown",
   "id": "a4cf534b",
   "metadata": {
    "papermill": {
     "duration": 0.02032,
     "end_time": "2022-12-04T17:29:37.168348",
     "exception": false,
     "start_time": "2022-12-04T17:29:37.148028",
     "status": "completed"
    },
    "tags": []
   },
   "source": [
    "Always guessing the gender to be female gives an accuracy of 61%."
   ]
  },
  {
   "cell_type": "markdown",
   "id": "be9ca1bb",
   "metadata": {
    "papermill": {
     "duration": 0.019695,
     "end_time": "2022-12-04T17:29:37.208169",
     "exception": false,
     "start_time": "2022-12-04T17:29:37.188474",
     "status": "completed"
    },
    "tags": []
   },
   "source": [
    "### Cross validation"
   ]
  },
  {
   "cell_type": "markdown",
   "id": "87648a19",
   "metadata": {
    "papermill": {
     "duration": 0.020395,
     "end_time": "2022-12-04T17:29:37.248723",
     "exception": false,
     "start_time": "2022-12-04T17:29:37.228328",
     "status": "completed"
    },
    "tags": []
   },
   "source": [
    "## REFERENCES\n",
    "* Bird, Steven, Edward Loper and Ewan Klein (2009). [Natural Language Processing with Python](https://www.nltk.org/book/).  O'Reilly Media Inc.\n",
    "\n",
    "Code examples and exercises from NLTK introductory chapters were covered in:\n",
    "* notebook [Natural Language TookKit: Getting Started](https://www.kaggle.com/code/ksenia5/natural-language-toolkit-getting-started)\n",
    "* notebook [NLTK Categorising and Tagging Words](https://www.kaggle.com/ksenia5/nltk-categorising-and-tagging-words)"
   ]
  }
 ],
 "metadata": {
  "kernelspec": {
   "display_name": "Python 3",
   "language": "python",
   "name": "python3"
  },
  "language_info": {
   "codemirror_mode": {
    "name": "ipython",
    "version": 3
   },
   "file_extension": ".py",
   "mimetype": "text/x-python",
   "name": "python",
   "nbconvert_exporter": "python",
   "pygments_lexer": "ipython3",
   "version": "3.7.12"
  },
  "papermill": {
   "default_parameters": {},
   "duration": 102.62256,
   "end_time": "2022-12-04T17:29:38.192336",
   "environment_variables": {},
   "exception": null,
   "input_path": "__notebook__.ipynb",
   "output_path": "__notebook__.ipynb",
   "parameters": {},
   "start_time": "2022-12-04T17:27:55.569776",
   "version": "2.3.4"
  }
 },
 "nbformat": 4,
 "nbformat_minor": 5
}
